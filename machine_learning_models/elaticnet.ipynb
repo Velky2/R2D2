{
 "cells": [
  {
   "cell_type": "markdown",
   "id": "99f313a4",
   "metadata": {},
   "source": [
    "# ElasticNet"
   ]
  },
  {
   "cell_type": "markdown",
   "id": "5b4f5ed0",
   "metadata": {},
   "source": [
    "### 1. Introdução ao ElasticNet"
   ]
  },
  {
   "cell_type": "markdown",
   "id": "bd0e1967",
   "metadata": {},
   "source": [
    "#### 1.1 Teoria"
   ]
  },
  {
   "cell_type": "markdown",
   "id": "7211cd66",
   "metadata": {},
   "source": [
    "Em Machine Learning, a regressão linear é um dos modelos mais simples de previsão de dados. Porém, ela pode sofrer com o Underfit e Overfit. O que acontece é que a regressão linear faz previsões calculando um polinômio para tentar representar o resultado, porém, para representar com grande acurácia os dados de treino, é necessário um polinômio de grau alto, que pode gerar resultados melhores para os dados de treino, mas piores para os demais, ou seja overfit (super ajustado). Veja na imagem abaixo:\n",
    "<div align=\"center\">\n",
    "    <img src=\"https://analystprep.com/study-notes/wp-content/uploads/2021/03/Img_13.jpg\" alt=\"Fern vs Ehre\" width=\"800\">\n",
    "</div>"
   ]
  },
  {
   "cell_type": "markdown",
   "id": "4887155a",
   "metadata": {},
   "source": [
    "Pensando nisso, foram desenvolvidos modelos de regularização do grau desses polinômios para evitar o Overfit, como é o caso do L1 (LASSO) e L2 (Ridge). Ambos os métodos tentam diminuir o efeito de Overfitting da regressão. Primeiramento relembremos o cálculo do MSE:\n",
    "\n",
    "$$\n",
    "MSE = \\frac{1}{n}\\sum_{i=1}^{n}(y_i - \\hat{y}_i)^2\n",
    "$$"
   ]
  },
  {
   "cell_type": "markdown",
   "id": "25710a25",
   "metadata": {},
   "source": [
    "Suponha que o valor a ser predito seja um polinômio tal que:\n",
    "$$\\hat{y} = \\theta_0 + \\theta_1 x_1 + \\theta_2 x_2^2 + \\theta_3 x_3^3 + \\theta_4 x_4^4...$$"
   ]
  },
  {
   "cell_type": "markdown",
   "id": "02dfccb0",
   "metadata": {},
   "source": [
    "Substituindo:\n",
    "$$\n",
    "MSE = \\frac{1}{n}\\sum_{i=1}^{n}(y_i - (\\theta_0 + \\theta_1 x_1 + \\theta_2 x_2^2 + \\theta_3 x_3^3 + \\theta_4 x_4^4...))^2\n",
    "$$"
   ]
  },
  {
   "cell_type": "markdown",
   "id": "f23ea972",
   "metadata": {},
   "source": [
    "Chamemos o polinômio de f, para simplificar\n",
    "$$\n",
    "MSE = \\frac{1}{n}\\sum_{i=1}^{n}(y_i - f(x_i))^2\n",
    "$$"
   ]
  },
  {
   "cell_type": "markdown",
   "id": "46bee2de",
   "metadata": {},
   "source": [
    "Para diminuir o grau do polinômio, a regularização acrescenta um demérito para graus maiores. Veja como é feito em L2:\n",
    "$$\n",
    "MSE = \\frac{1}{n}\\sum_{i=1}^{n}(y_i - f(x_i))^2 + \\alpha\\sum_{i=1}^{n}(\\theta_i)^2\n",
    "$$\n",
    "Ou seja, quanto maior n, maior o somatório dos quadrados de theta, sendo vantajoso um modelo que tenha menor grau e boa precisão. Alpha é uma constante que pode ser escolhida para ditar o peso do demérito."
   ]
  },
  {
   "cell_type": "markdown",
   "id": "fd75ba7a",
   "metadata": {},
   "source": [
    "Agora, vejamos como é feito em L1:\n",
    "$$\n",
    "MSE = \\frac{1}{n}\\sum_{i=1}^{n}(y_i - f(x_i))^2 + \\alpha\\sum_{i=1}^{n}|\\theta_i|\n",
    "$$\n",
    "Ele também adiciona um demérito para o aumento de grau, mas agora usando o módulo de theta com a constante alpha."
   ]
  },
  {
   "cell_type": "markdown",
   "id": "a56cb198",
   "metadata": {},
   "source": [
    "Porém, podemos usar L1 e L2 juntos e isso é o Elastic Net:\n",
    "$$\n",
    "MSE = \\frac{1}{2n}\\sum_{i=1}^{n}(y_i - f(x_i))^2 + \\alpha(l_1ratio)\\sum_{i=1}^{n}|\\theta_i| + 0.5\\alpha(1-l_1ratio)\\sum_{i=1}^{n}(\\theta_i)^2\n",
    "$$"
   ]
  },
  {
   "cell_type": "markdown",
   "id": "e68a60ab",
   "metadata": {},
   "source": [
    "#### 1.2 ElasticNet no sklearn"
   ]
  },
  {
   "cell_type": "markdown",
   "id": "4eb24065",
   "metadata": {},
   "source": [
    "No sklearn, ElasticNet está em linear_model. Ele pode receber como parâmetros:\n",
    "\n",
    "→ alpha - controla o peso da regularização. std=1\n",
    "\n",
    "→ l1_ratio - controla a proporção entre L1 e L2. std=0.5\n",
    "\n",
    "→ max_iter - número máximo de iterações do algoritmo de otimização para encontrar a melhor solução. std=1000\n",
    "\n",
    "→ tol - tolerância da melhoria para até onde o modelo tenta otimizar. std=1e-4\n",
    "\n",
    "→ selection - cyclic, atualiza as features sequencialmente, random, atualiza em qualquer ordem. std=cyclic\n",
    "\n",
    "→ fit_intercept - adiciona uma constante ao polinômio. std=true\n",
    "\n",
    "→ positive - faz todos os thetas serem positivos. std=False"
   ]
  },
  {
   "cell_type": "markdown",
   "id": "807ced4f",
   "metadata": {},
   "source": [
    "### 2. Treino de Modelo"
   ]
  },
  {
   "cell_type": "markdown",
   "id": "51c1a64b",
   "metadata": {},
   "source": [
    "Primeiro importamos as bibliotecas e o dataframe"
   ]
  },
  {
   "cell_type": "code",
   "execution_count": 5,
   "id": "a5fef948",
   "metadata": {},
   "outputs": [],
   "source": [
    "from sklearn.linear_model import ElasticNet\n",
    "from sklearn.ensemble import RandomForestRegressor\n",
    "from sklearn.datasets import make_regression\n",
    "import pandas as pd\n",
    "from sklearn.model_selection import train_test_split, KFold, cross_val_score\n",
    "from sklearn.pipeline import make_pipeline\n",
    "from sklearn.preprocessing import StandardScaler\n",
    "from sklearn.metrics import root_mean_squared_error\n",
    "from sklearn.feature_selection import RFE\n",
    "from sklearn.feature_selection import VarianceThreshold\n",
    "from sklearn.decomposition import PCA\n",
    "from optuna import create_study\n",
    "from optuna.pruners import HyperbandPruner\n",
    "from optuna import load_study, trial\n",
    "import matplotlib.pyplot as plt"
   ]
  },
  {
   "cell_type": "code",
   "execution_count": 6,
   "id": "7aba30be",
   "metadata": {},
   "outputs": [
    {
     "data": {
      "application/vnd.microsoft.datawrangler.viewer.v0+json": {
       "columns": [
        {
         "name": "index",
         "rawType": "int64",
         "type": "integer"
        },
        {
         "name": "Dipole",
         "rawType": "float64",
         "type": "float"
        },
        {
         "name": "E_HOMO",
         "rawType": "float64",
         "type": "float"
        },
        {
         "name": "E_LUMO",
         "rawType": "float64",
         "type": "float"
        },
        {
         "name": "gap_HOMO-LUMO",
         "rawType": "float64",
         "type": "float"
        },
        {
         "name": "ZPE",
         "rawType": "float64",
         "type": "float"
        },
        {
         "name": "H",
         "rawType": "float64",
         "type": "float"
        },
        {
         "name": "U",
         "rawType": "float64",
         "type": "float"
        },
        {
         "name": "U0",
         "rawType": "float64",
         "type": "float"
        },
        {
         "name": "G",
         "rawType": "float64",
         "type": "float"
        },
        {
         "name": "Delta",
         "rawType": "float64",
         "type": "float"
        }
       ],
       "ref": "69b4fc12-9087-4e64-9681-d5f81f1039d1",
       "rows": [
        [
         "0",
         "0.727",
         "-10.6203",
         "-2.795",
         "-7.8253",
         "0.154213880123",
         "-27.917738986783",
         "-27.91868317165118",
         "-28.080949596089",
         "-27.959629956779",
         "-12.397981830912954"
        ],
        [
         "1",
         "1.905",
         "-10.4336",
         "-2.2949",
         "-8.1387",
         "0.199865758344",
         "-28.104404140291",
         "-28.105348325159177",
         "-28.313524361082",
         "-28.146070018695",
         "-12.165407065919954"
        ],
        [
         "2",
         "4.475",
         "-10.5746",
         "-6.9494",
         "-3.6252",
         "0.12006385182",
         "-27.272559676722",
         "-27.27350386159018",
         "-27.400818104634",
         "-27.312534612948",
         "-13.078113322367956"
        ],
        [
         "3",
         "2.1",
         "-9.8173",
         "-5.5314",
         "-4.2859",
         "0.177676782712",
         "-27.068398583497",
         "-27.06934276836518",
         "-27.254802697732",
         "-27.108720472484",
         "-13.224128729269951"
        ],
        [
         "4",
         "0.872",
         "-9.9722",
         "-6.6172",
         "-3.3550000000000004",
         "0.133244276504",
         "-24.148876343884",
         "-24.14982052875218",
         "-24.292155158518",
         "-24.192788257496",
         "-16.186776268483953"
        ],
        [
         "5",
         "3.164",
         "-9.8764",
         "-8.3748",
         "-1.5015999999999998",
         "0.10941499098",
         "-23.507764678709",
         "-23.50870886357718",
         "-23.625026785318",
         "-23.546801427327",
         "-16.853904641683954"
        ],
        [
         "6",
         "3.759",
         "-11.3652",
         "-3.5792",
         "-7.786",
         "0.118957651608",
         "-22.723399856371",
         "-22.724344041239178",
         "-22.849724304303",
         "-22.761089791434",
         "-17.629207122698954"
        ],
        [
         "7",
         "0.593",
         "-9.9268",
         "-6.4566",
         "-3.4702",
         "0.180635502624",
         "-25.133761525346",
         "-25.134705710214178",
         "-25.322488706206",
         "-25.173009807573",
         "-15.156442720795956"
        ],
        [
         "8",
         "2.497",
         "-10.2998",
         "-6.5856",
         "-3.714199999999999",
         "0.140030354661",
         "-28.215635713586",
         "-28.21657989845417",
         "-28.364728621402",
         "-28.25789835427",
         "-12.114202805599952"
        ],
        [
         "9",
         "8.945",
         "-10.8306",
         "-9.5335",
         "-1.2971000000000004",
         "0.072763881898",
         "-27.186663012624",
         "-27.187607197492177",
         "-27.267461178475",
         "-27.226473845745",
         "-13.211470248526954"
        ],
        [
         "10",
         "2.11",
         "-10.8529",
         "-2.7778",
         "-8.075099999999999",
         "0.169072307138",
         "-26.876425659109",
         "-26.877369843977178",
         "-27.05479632975",
         "-26.91859719267",
         "-13.424135097251952"
        ],
        [
         "11",
         "3.033",
         "-9.4956",
         "-0.8763",
         "-8.619299999999999",
         "0.16808309592",
         "-27.336489131896",
         "-27.337433316764177",
         "-27.512515401801",
         "-27.376035702909",
         "-12.966416025200951"
        ],
        [
         "12",
         "1.63",
         "-10.5242",
         "-3.7683",
         "-6.7559000000000005",
         "0.10498092007",
         "-18.9159851135",
         "-18.91692929836817",
         "-19.026766735926",
         "-18.949832386859",
         "-21.45216469107596"
        ],
        [
         "13",
         "3.432",
         "-10.5569",
         "-6.3716",
         "-4.185300000000001",
         "0.112975045637",
         "-25.154476465552",
         "-25.15542065042018",
         "-25.27483488739",
         "-25.191968896453",
         "-15.204096539611951"
        ],
        [
         "14",
         "0.976",
         "-9.55",
         "-6.6604",
         "-2.8896000000000006",
         "0.164845974079",
         "-27.026554090296",
         "-27.027498275164177",
         "-27.20048997843",
         "-27.067845292258",
         "-13.278441448571954"
        ],
        [
         "15",
         "2.479",
         "-10.4004",
         "-7.7567",
         "-2.643699999999999",
         "0.150842446498",
         "-27.614097738303",
         "-27.615041923171177",
         "-27.775600879578",
         "-27.660082774622",
         "-12.703330547423953"
        ],
        [
         "16",
         "1.43",
         "-9.924",
         "-3.0302",
         "-6.8938",
         "0.187515172236",
         "-28.337012329062",
         "-28.337956513930177",
         "-28.534028616833",
         "-28.379931755852",
         "-11.944902810168951"
        ],
        [
         "17",
         "4.211",
         "-11.763",
         "-9.1451",
         "-2.617900000000001",
         "0.057418481033",
         "-24.977784515158",
         "-24.978728700026178",
         "-25.041916763832",
         "-25.013866799773",
         "-15.437014663169954"
        ],
        [
         "18",
         "3.937",
         "-10.4108",
         "-6.5613",
         "-3.8495",
         "0.141097759317",
         "-26.296176173905",
         "-26.29712035877317",
         "-26.446931366965",
         "-26.339501412211",
         "-14.032000060036951"
        ],
        [
         "19",
         "2.122",
         "-10.8768",
         "-7.2014",
         "-3.6754",
         "0.15435977181",
         "-28.027997355492",
         "-28.02894154036018",
         "-28.19078000429",
         "-28.06822475497",
         "-12.288151422711952"
        ],
        [
         "20",
         "3.248",
         "-10.5724",
         "-7.5892",
         "-2.9832",
         "0.152686514167",
         "-28.010325738177",
         "-28.011269923045177",
         "-28.172354910504",
         "-28.052622867178",
         "-12.306576516497952"
        ],
        [
         "21",
         "1.748",
         "-10.3785",
         "-0.6991",
         "-9.6794",
         "0.179720084271",
         "-27.086574478693",
         "-27.087518663561177",
         "-27.273773703698",
         "-27.124480087805",
         "-13.205157723303952"
        ],
        [
         "22",
         "1.88",
         "-10.9948",
         "-5.8707",
         "-5.124099999999999",
         "0.160576443772",
         "-31.25633081912",
         "-31.257275003988177",
         "-31.427219327137",
         "-31.300645424007",
         "-9.051712099864954"
        ],
        [
         "23",
         "2.968",
         "-11.0305",
         "-7.4461",
         "-3.5844",
         "0.131606171774",
         "-28.21728315605",
         "-28.21822734091818",
         "-28.357595421275",
         "-28.258892210595",
         "-12.121336005726953"
        ],
        [
         "24",
         "3.592",
         "-11.3828",
         "-6.887",
         "-4.4958",
         "0.089833580458",
         "-24.520316182448",
         "-24.521260367316177",
         "-24.616696005142",
         "-24.556859708109",
         "-15.862235421859952"
        ],
        [
         "25",
         "4.037",
         "-11.3451",
         "-7.022",
         "-4.3231",
         "0.125967479919",
         "-28.901623170298",
         "-28.902567355166177",
         "-29.037739334469",
         "-28.945682798632",
         "-11.441192092532956"
        ],
        [
         "26",
         "2.364",
         "-10.1722",
         "-6.209",
         "-3.963200000000001",
         "0.133319964261",
         "-26.12420488472",
         "-26.12514906958818",
         "-26.266162331574",
         "-26.164779283934",
         "-14.212769095427952"
        ],
        [
         "27",
         "4.255",
         "-10.8907",
         "-6.5223",
         "-4.3684",
         "0.097669501403",
         "-16.858713107456",
         "-16.85965729232418",
         "-16.962580297506",
         "-16.892946061775",
         "-23.516351129495952"
        ],
        [
         "28",
         "3.025",
         "-11.2743",
         "-6.0318",
         "-5.242500000000001",
         "0.139992634859",
         "-28.254244543393",
         "-28.25518872826117",
         "-28.403928748139",
         "-28.297689218478",
         "-12.075002678862957"
        ],
        [
         "29",
         "5.106",
         "-9.4358",
         "-5.4308",
         "-4.005000000000001",
         "0.129329010627",
         "-28.277449918428",
         "-28.27839410329618",
         "-28.416242838933",
         "-28.319474466212",
         "-12.062688588068951"
        ],
        [
         "30",
         "4.694",
         "-10.5105",
         "-7.7175",
         "-2.793",
         "0.122122511979",
         "-27.231912810386",
         "-27.232856995254178",
         "-27.361356415929",
         "-27.269765328796",
         "-13.117575011072956"
        ],
        [
         "31",
         "5.396",
         "-11.0206",
         "-6.0897",
         "-4.9309",
         "0.155413557051",
         "-25.654926021665",
         "-25.655870206533177",
         "-25.819172072573",
         "-25.696014014086",
         "-14.659759354428951"
        ],
        [
         "32",
         "4.26",
         "-10.6688",
         "-6.5108",
         "-4.158",
         "0.14109811091",
         "-26.320906039987",
         "-26.32185022485518",
         "-26.471598497742",
         "-26.36401390266",
         "-14.007332929259952"
        ],
        [
         "33",
         "5.022",
         "-10.4807",
         "-6.6781",
         "-3.802600000000001",
         "0.115717295378",
         "-24.795100348754",
         "-24.79604453362218",
         "-24.918666359507",
         "-24.834621129738",
         "-15.560265067494951"
        ],
        [
         "34",
         "3.302",
         "-10.6223",
         "-6.9188",
         "-3.703499999999999",
         "0.176164763416",
         "-27.044053307581",
         "-27.044997492449177",
         "-27.229164553514",
         "-27.085220261653",
         "-13.249766873487951"
        ],
        [
         "35",
         "2.14",
         "-10.3604",
         "-6.7544",
         "-3.606",
         "0.155682315487",
         "-25.985486340376",
         "-25.986430525244177",
         "-26.149277732119",
         "-26.025058812257",
         "-14.329653694882952"
        ],
        [
         "36",
         "2.391",
         "-10.1529",
         "-5.4376",
         "-4.715300000000001",
         "0.154237352443",
         "-27.675098825908",
         "-27.67604301077618",
         "-27.838492814961",
         "-27.717233178483",
         "-12.640438612040953"
        ],
        [
         "37",
         "3.407",
         "-10.8687",
         "0.0132",
         "-10.8819",
         "0.174620695813",
         "-30.976672153826",
         "-30.97761633869418",
         "-31.160544486892",
         "-31.018128161251",
         "-9.318386940109953"
        ],
        [
         "38",
         "3.789",
         "-10.392",
         "-7.8751",
         "-2.5169",
         "0.103029855148",
         "-25.429641417392",
         "-25.430585602260177",
         "-25.539959144894",
         "-25.467962690452",
         "-14.938972282107954"
        ],
        [
         "39",
         "3.527",
         "-10.0524",
         "-6.8518",
         "-3.200600000000001",
         "0.188487879861",
         "-28.397577093473",
         "-28.39852127834118",
         "-28.595390999243",
         "-28.439575659715",
         "-11.883540427758952"
        ],
        [
         "40",
         "3.592",
         "-9.4884",
         "-5.0253",
         "-4.463100000000001",
         "0.11268554483",
         "-24.81105714198",
         "-24.81200132684818",
         "-24.932291943272",
         "-24.851373130159",
         "-15.546639483729956"
        ],
        [
         "41",
         "3.297",
         "-10.6764",
         "-7.6427",
         "-3.0337",
         "0.144227587008",
         "-26.282499591495",
         "-26.28344377636318",
         "-26.434203814108",
         "-26.320994607146",
         "-14.044727612893954"
        ],
        [
         "42",
         "2.437",
         "-10.6242",
         "-6.1569",
         "-4.4673",
         "0.14910787056",
         "-25.872457677197",
         "-25.87340186206518",
         "-26.02966955403",
         "-25.911854941232",
         "-14.449261872971952"
        ],
        [
         "43",
         "4.706",
         "-10.9584",
         "-10.1416",
         "-0.8167999999999989",
         "0.114237416054",
         "-29.183851167352",
         "-29.184795352220178",
         "-29.308079772649",
         "-29.227396078072",
         "-11.170851654352957"
        ],
        [
         "44",
         "2.686",
         "-10.49",
         "-2.0391",
         "-8.4509",
         "0.196550416286",
         "-30.008540575391",
         "-30.009484760259177",
         "-30.215384496671",
         "-30.052664863322",
         "-10.263546930330952"
        ],
        [
         "45",
         "4.242",
         "-11.2183",
         "-7.3475",
         "-3.870799999999999",
         "0.144046639899",
         "-26.353705102621",
         "-26.354649287489178",
         "-26.506532576185",
         "-26.394670280989",
         "-13.972398850816957"
        ],
        [
         "46",
         "1.867",
         "-10.5916",
         "0.1471",
         "-10.7387",
         "0.166824610572",
         "-22.8315604531",
         "-22.83250463796817",
         "-23.006510769395",
         "-22.870966418296",
         "-17.472420657606953"
        ],
        [
         "47",
         "5.677",
         "-11.3887",
         "-8.941",
         "-2.4477",
         "0.108949645419",
         "-25.550045298221",
         "-25.55098948308918",
         "-25.667296928335",
         "-25.590277885513",
         "-14.811634498666956"
        ],
        [
         "48",
         "1.585",
         "-10.3499",
         "-5.525",
         "-4.8249",
         "0.153132059738",
         "-26.034557979107",
         "-26.035502163975178",
         "-26.197271552258",
         "-26.076857562821",
         "-14.281659874743951"
        ],
        [
         "49",
         "0.842",
         "-10.5975",
         "-3.6465",
         "-6.9510000000000005",
         "0.167672092344",
         "-27.313871690402",
         "-27.314815875270178",
         "-27.489524629349",
         "-27.353022910024",
         "-12.989406797652954"
        ]
       ],
       "shape": {
        "columns": 10,
        "rows": 129157
       }
      },
      "text/html": [
       "<div>\n",
       "<style scoped>\n",
       "    .dataframe tbody tr th:only-of-type {\n",
       "        vertical-align: middle;\n",
       "    }\n",
       "\n",
       "    .dataframe tbody tr th {\n",
       "        vertical-align: top;\n",
       "    }\n",
       "\n",
       "    .dataframe thead th {\n",
       "        text-align: right;\n",
       "    }\n",
       "</style>\n",
       "<table border=\"1\" class=\"dataframe\">\n",
       "  <thead>\n",
       "    <tr style=\"text-align: right;\">\n",
       "      <th></th>\n",
       "      <th>Dipole</th>\n",
       "      <th>E_HOMO</th>\n",
       "      <th>E_LUMO</th>\n",
       "      <th>gap_HOMO-LUMO</th>\n",
       "      <th>ZPE</th>\n",
       "      <th>H</th>\n",
       "      <th>U</th>\n",
       "      <th>U0</th>\n",
       "      <th>G</th>\n",
       "      <th>Delta</th>\n",
       "    </tr>\n",
       "  </thead>\n",
       "  <tbody>\n",
       "    <tr>\n",
       "      <th>0</th>\n",
       "      <td>0.727</td>\n",
       "      <td>-10.6203</td>\n",
       "      <td>-2.7950</td>\n",
       "      <td>-7.8253</td>\n",
       "      <td>0.154214</td>\n",
       "      <td>-27.917739</td>\n",
       "      <td>-27.918683</td>\n",
       "      <td>-28.080950</td>\n",
       "      <td>-27.959630</td>\n",
       "      <td>-12.397982</td>\n",
       "    </tr>\n",
       "    <tr>\n",
       "      <th>1</th>\n",
       "      <td>1.905</td>\n",
       "      <td>-10.4336</td>\n",
       "      <td>-2.2949</td>\n",
       "      <td>-8.1387</td>\n",
       "      <td>0.199866</td>\n",
       "      <td>-28.104404</td>\n",
       "      <td>-28.105348</td>\n",
       "      <td>-28.313524</td>\n",
       "      <td>-28.146070</td>\n",
       "      <td>-12.165407</td>\n",
       "    </tr>\n",
       "    <tr>\n",
       "      <th>2</th>\n",
       "      <td>4.475</td>\n",
       "      <td>-10.5746</td>\n",
       "      <td>-6.9494</td>\n",
       "      <td>-3.6252</td>\n",
       "      <td>0.120064</td>\n",
       "      <td>-27.272560</td>\n",
       "      <td>-27.273504</td>\n",
       "      <td>-27.400818</td>\n",
       "      <td>-27.312535</td>\n",
       "      <td>-13.078113</td>\n",
       "    </tr>\n",
       "    <tr>\n",
       "      <th>3</th>\n",
       "      <td>2.100</td>\n",
       "      <td>-9.8173</td>\n",
       "      <td>-5.5314</td>\n",
       "      <td>-4.2859</td>\n",
       "      <td>0.177677</td>\n",
       "      <td>-27.068399</td>\n",
       "      <td>-27.069343</td>\n",
       "      <td>-27.254803</td>\n",
       "      <td>-27.108720</td>\n",
       "      <td>-13.224129</td>\n",
       "    </tr>\n",
       "    <tr>\n",
       "      <th>4</th>\n",
       "      <td>0.872</td>\n",
       "      <td>-9.9722</td>\n",
       "      <td>-6.6172</td>\n",
       "      <td>-3.3550</td>\n",
       "      <td>0.133244</td>\n",
       "      <td>-24.148876</td>\n",
       "      <td>-24.149821</td>\n",
       "      <td>-24.292155</td>\n",
       "      <td>-24.192788</td>\n",
       "      <td>-16.186776</td>\n",
       "    </tr>\n",
       "    <tr>\n",
       "      <th>...</th>\n",
       "      <td>...</td>\n",
       "      <td>...</td>\n",
       "      <td>...</td>\n",
       "      <td>...</td>\n",
       "      <td>...</td>\n",
       "      <td>...</td>\n",
       "      <td>...</td>\n",
       "      <td>...</td>\n",
       "      <td>...</td>\n",
       "      <td>...</td>\n",
       "    </tr>\n",
       "    <tr>\n",
       "      <th>129152</th>\n",
       "      <td>4.710</td>\n",
       "      <td>-11.3840</td>\n",
       "      <td>-7.8335</td>\n",
       "      <td>-3.5505</td>\n",
       "      <td>0.121817</td>\n",
       "      <td>-26.808903</td>\n",
       "      <td>-26.809847</td>\n",
       "      <td>-26.939965</td>\n",
       "      <td>-26.851229</td>\n",
       "      <td>-13.538966</td>\n",
       "    </tr>\n",
       "    <tr>\n",
       "      <th>129153</th>\n",
       "      <td>4.996</td>\n",
       "      <td>-10.8793</td>\n",
       "      <td>-7.1097</td>\n",
       "      <td>-3.7696</td>\n",
       "      <td>0.141742</td>\n",
       "      <td>-28.278349</td>\n",
       "      <td>-28.279293</td>\n",
       "      <td>-28.428099</td>\n",
       "      <td>-28.317523</td>\n",
       "      <td>-12.050832</td>\n",
       "    </tr>\n",
       "    <tr>\n",
       "      <th>129154</th>\n",
       "      <td>3.973</td>\n",
       "      <td>-10.9497</td>\n",
       "      <td>-7.7346</td>\n",
       "      <td>-3.2151</td>\n",
       "      <td>0.124894</td>\n",
       "      <td>-24.819326</td>\n",
       "      <td>-24.820270</td>\n",
       "      <td>-24.952019</td>\n",
       "      <td>-24.858199</td>\n",
       "      <td>-15.526912</td>\n",
       "    </tr>\n",
       "    <tr>\n",
       "      <th>129155</th>\n",
       "      <td>0.918</td>\n",
       "      <td>-10.2869</td>\n",
       "      <td>-1.8611</td>\n",
       "      <td>-8.4258</td>\n",
       "      <td>0.195977</td>\n",
       "      <td>-30.002576</td>\n",
       "      <td>-30.003520</td>\n",
       "      <td>-30.208931</td>\n",
       "      <td>-30.047056</td>\n",
       "      <td>-10.270000</td>\n",
       "    </tr>\n",
       "    <tr>\n",
       "      <th>129156</th>\n",
       "      <td>0.330</td>\n",
       "      <td>-10.7007</td>\n",
       "      <td>-8.4832</td>\n",
       "      <td>-2.2175</td>\n",
       "      <td>0.073584</td>\n",
       "      <td>-24.919339</td>\n",
       "      <td>-24.920283</td>\n",
       "      <td>-25.000626</td>\n",
       "      <td>-24.958159</td>\n",
       "      <td>-15.478305</td>\n",
       "    </tr>\n",
       "  </tbody>\n",
       "</table>\n",
       "<p>129157 rows × 10 columns</p>\n",
       "</div>"
      ],
      "text/plain": [
       "        Dipole   E_HOMO  E_LUMO  gap_HOMO-LUMO       ZPE          H  \\\n",
       "0        0.727 -10.6203 -2.7950        -7.8253  0.154214 -27.917739   \n",
       "1        1.905 -10.4336 -2.2949        -8.1387  0.199866 -28.104404   \n",
       "2        4.475 -10.5746 -6.9494        -3.6252  0.120064 -27.272560   \n",
       "3        2.100  -9.8173 -5.5314        -4.2859  0.177677 -27.068399   \n",
       "4        0.872  -9.9722 -6.6172        -3.3550  0.133244 -24.148876   \n",
       "...        ...      ...     ...            ...       ...        ...   \n",
       "129152   4.710 -11.3840 -7.8335        -3.5505  0.121817 -26.808903   \n",
       "129153   4.996 -10.8793 -7.1097        -3.7696  0.141742 -28.278349   \n",
       "129154   3.973 -10.9497 -7.7346        -3.2151  0.124894 -24.819326   \n",
       "129155   0.918 -10.2869 -1.8611        -8.4258  0.195977 -30.002576   \n",
       "129156   0.330 -10.7007 -8.4832        -2.2175  0.073584 -24.919339   \n",
       "\n",
       "                U         U0          G      Delta  \n",
       "0      -27.918683 -28.080950 -27.959630 -12.397982  \n",
       "1      -28.105348 -28.313524 -28.146070 -12.165407  \n",
       "2      -27.273504 -27.400818 -27.312535 -13.078113  \n",
       "3      -27.069343 -27.254803 -27.108720 -13.224129  \n",
       "4      -24.149821 -24.292155 -24.192788 -16.186776  \n",
       "...           ...        ...        ...        ...  \n",
       "129152 -26.809847 -26.939965 -26.851229 -13.538966  \n",
       "129153 -28.279293 -28.428099 -28.317523 -12.050832  \n",
       "129154 -24.820270 -24.952019 -24.858199 -15.526912  \n",
       "129155 -30.003520 -30.208931 -30.047056 -10.270000  \n",
       "129156 -24.920283 -25.000626 -24.958159 -15.478305  \n",
       "\n",
       "[129157 rows x 10 columns]"
      ]
     },
     "execution_count": 6,
     "metadata": {},
     "output_type": "execute_result"
    }
   ],
   "source": [
    "df = pd.read_csv('../dataset_processing/xtb_dataset.csv')\n",
    "df"
   ]
  },
  {
   "cell_type": "code",
   "execution_count": 7,
   "id": "7d326b0a",
   "metadata": {},
   "outputs": [],
   "source": [
    "X = df.drop(\"Delta\", axis=1)\n",
    "y = df[\"Delta\"]\n",
    "X_train, X_test, y_train, y_test = train_test_split(X, y, test_size=0.7, random_state=27)"
   ]
  },
  {
   "cell_type": "markdown",
   "id": "ea7a8198",
   "metadata": {},
   "source": [
    "Agora, instanciamos o modelo com todos seus parâmetros e tratamentos a serem usados pelo optuna."
   ]
  },
  {
   "cell_type": "code",
   "execution_count": 8,
   "id": "b19e36b5",
   "metadata": {},
   "outputs": [],
   "source": [
    "def inst_elasticnet(trial):\n",
    "    parametros = {\n",
    "        'alpha': trial.suggest_float('alpha', 1e-5, 1e3, log=True),\n",
    "        'l1_ratio': trial.suggest_float('l1_ratio', 0, 1),\n",
    "        'fit_intercept': trial.suggest_categorical(\"fit_intercept\", [True, False]),\n",
    "        'positive': trial.suggest_categorical(\"positive\", [False, True]),\n",
    "        'max_iter': trial.suggest_int('max_iter', 1000, 40000),\n",
    "        'tol': trial.suggest_float('tol', 1e-8, 1e-3, log=True),\n",
    "        'selection': trial.suggest_categorical('selection', ['cyclic', 'random'])\n",
    "    }\n",
    "\n",
    "    normalizar = trial.suggest_categorical('normalizar', [None, 'stds' 'pca', 'limiar', 'rfe'])\n",
    "    if normalizar == 'stds':\n",
    "        modelo = make_pipeline(StandardScaler(), ElasticNet(**parametros))\n",
    "    elif normalizar == \"pca\":\n",
    "        # Definindo o número de componentes a serem mantidas\n",
    "        components = trial.suggest_int(\"pca_components\", 2, 50)\n",
    "        modelo = make_pipeline(\n",
    "            StandardScaler(),\n",
    "            PCA(components),\n",
    "            ElasticNet(**parametros))\n",
    "    elif normalizar == \"limiar\":\n",
    "        # Definindo o Limiar a ser utilizado\n",
    "        threshold = trial.suggest_float(\"variance_threshold\", 0, 0.1)\n",
    "        modelo = make_pipeline(\n",
    "            StandardScaler(),\n",
    "            VarianceThreshold(threshold),\n",
    "            ElasticNet(**parametros)\n",
    "        )\n",
    "    elif normalizar == \"rfe\": \n",
    "        # Criando o modelo para parametro do RFE\n",
    "        estimator = RandomForestRegressor()\n",
    "        # Definindo o número de atributos a serem mantidos\n",
    "        n_features_to_select = trial.suggest_int(\"rfe_features\", 2, 50)\n",
    "        modelo = make_pipeline(\n",
    "            StandardScaler(),\n",
    "            RFE(estimator=estimator, n_features_to_select=n_features_to_select),\n",
    "            ElasticNet(**parametros)\n",
    "        )\n",
    "    else:\n",
    "        modelo = ElasticNet(**parametros)\n",
    "\n",
    "    return modelo"
   ]
  },
  {
   "cell_type": "markdown",
   "id": "ffe1f87e",
   "metadata": {},
   "source": [
    "Criar função objetivo de cross validation"
   ]
  },
  {
   "cell_type": "code",
   "execution_count": 9,
   "id": "35f7e7b5",
   "metadata": {},
   "outputs": [],
   "source": [
    "def funcao_objetivo(trial, X, y, num_folds, instanciador):\n",
    "    modelo = instanciador(trial)\n",
    "\n",
    "    metricas = -cross_val_score(\n",
    "        modelo,\n",
    "        X,\n",
    "        y,\n",
    "        scoring='neg_root_mean_squared_error',\n",
    "        cv=num_folds,\n",
    "        n_jobs=-1\n",
    "    )\n",
    "    return metricas.mean()\n"
   ]
  },
  {
   "cell_type": "markdown",
   "id": "52c2d8ea",
   "metadata": {},
   "source": [
    "Implementar o optuna"
   ]
  },
  {
   "cell_type": "code",
   "execution_count": 10,
   "id": "d7e16698",
   "metadata": {},
   "outputs": [],
   "source": [
    "def rodar_optuna(nome_estudo, X, y, instanciador, num_folds=5, n_trials=1000):\n",
    "    study = create_study(\n",
    "        direction='minimize',\n",
    "        study_name=nome_estudo,\n",
    "        storage=f'sqlite:///{nome_estudo}.db',\n",
    "        load_if_exists=True,\n",
    "        pruner=HyperbandPruner(min_resource=1, max_resource=100, reduction_factor=3)\n",
    "    )\n",
    "\n",
    "    def objetivo_parcial(trial):\n",
    "        return funcao_objetivo(trial, X, y, num_folds, instanciador)\n",
    "\n",
    "    study.optimize(objetivo_parcial, n_trials=n_trials)\n",
    "    return study\n"
   ]
  },
  {
   "cell_type": "code",
   "execution_count": null,
   "id": "e78233ff",
   "metadata": {},
   "outputs": [],
   "source": [
    "study_en = rodar_optuna('elasticnet_xtb', X_train, y_train, inst_elasticnet)"
   ]
  },
  {
   "cell_type": "markdown",
   "id": "80857bf0",
   "metadata": {},
   "source": [
    "Façamos agora a validação final do RMSE do, de acordo com o optuna, melhor modelo"
   ]
  },
  {
   "cell_type": "code",
   "execution_count": 51,
   "id": "b35f79f9",
   "metadata": {},
   "outputs": [
    {
     "name": "stdout",
     "output_type": "stream",
     "text": [
      "RMSE Médio (CV) - Random Forest: 0.007945063128739839\n"
     ]
    }
   ],
   "source": [
    "model = ElasticNet(alpha=0.00006820706258709369,\n",
    "                   l1_ratio=0.17332460629146462, \n",
    "                   fit_intercept=True, \n",
    "                   positive=False,\n",
    "                   max_iter=33778,\n",
    "                   tol=8.423671561653807e-7,\n",
    "                   selection='random')\n",
    "\n",
    "pipe_final = make_pipeline(\n",
    "    StandardScaler(), \n",
    "    RFE(estimator=RandomForestRegressor(), n_features_to_select=31),\n",
    "    model\n",
    ")\n",
    "\n",
    "cv = KFold(n_splits=10, shuffle=True, random_state=27)\n",
    "cv_rf = -cross_val_score(\n",
    "    RandomForestRegressor(),\n",
    "    X_test,\n",
    "    y_test,\n",
    "    cv=cv,\n",
    "    scoring='neg_root_mean_squared_error'\n",
    ")\n",
    "\n",
    "print(f'RMSE Médio (CV) - Random Forest: {cv_rf.mean()}')\n"
   ]
  },
  {
   "cell_type": "markdown",
   "id": "9ab91f75",
   "metadata": {},
   "source": [
    "De acordo com o Shap, o só as features U e U0 influenciam no resultado:"
   ]
  },
  {
   "cell_type": "code",
   "execution_count": 61,
   "id": "17fb70b8",
   "metadata": {},
   "outputs": [
    {
     "name": "stdout",
     "output_type": "stream",
     "text": [
      "RMSE Médio (CV) - Random Forest: 0.005371247556981271\n"
     ]
    }
   ],
   "source": [
    "model = ElasticNet(alpha=0.00006820706258709369,\n",
    "                   l1_ratio=0.17332460629146462, \n",
    "                   fit_intercept=True, \n",
    "                   positive=False,\n",
    "                   max_iter=33778,\n",
    "                   tol=8.423671561653807e-7,\n",
    "                   selection='random')\n",
    "\n",
    "pipe_final = make_pipeline(\n",
    "    StandardScaler(), \n",
    "    RFE(estimator=RandomForestRegressor(), n_features_to_select=31),\n",
    "    model\n",
    ")\n",
    "\n",
    "cv = KFold(n_splits=10, shuffle=True, random_state=27)\n",
    "cv_rf = -cross_val_score(\n",
    "    RandomForestRegressor(),\n",
    "    X_test[['U', 'U0']],\n",
    "    y_test,\n",
    "    cv=cv,\n",
    "    scoring='neg_root_mean_squared_error'\n",
    ")\n",
    "\n",
    "print(f'RMSE Médio (CV) - Random Forest: {cv_rf.mean()}')\n"
   ]
  },
  {
   "cell_type": "markdown",
   "id": "71d71999",
   "metadata": {},
   "source": [
    "### 3. Resultados"
   ]
  },
  {
   "cell_type": "markdown",
   "id": "d0e29249",
   "metadata": {},
   "source": [
    "Portanto, utilizando-se do Optuna Dashboard conseguimos:"
   ]
  },
  {
   "cell_type": "code",
   "execution_count": 44,
   "id": "44b2551b",
   "metadata": {},
   "outputs": [
    {
     "data": {
      "image/png": "[encoded data removed]",
      "text/plain": [
       "<IPython.core.display.Image object>"
      ]
     },
     "execution_count": 44,
     "metadata": {
      "image/png": {
       "height": 200,
       "width": 700
      }
     },
     "output_type": "execute_result"
    }
   ],
   "source": [
    "from IPython.display import Image\n",
    "Image(filename='../images/en_trials.png', height=200, width=700)"
   ]
  },
  {
   "cell_type": "markdown",
   "id": "bc6cb675",
   "metadata": {},
   "source": [
    "Percebe-se que o trial 810 foi o melhor e analisando-se os resultados até ele, o RMSE não deve aumentar significativamente mais."
   ]
  },
  {
   "cell_type": "code",
   "execution_count": 37,
   "id": "facdc6dd",
   "metadata": {},
   "outputs": [
    {
     "data": {
      "image/png": "[encoded data removed]",
      "text/plain": [
       "<IPython.core.display.Image object>"
      ]
     },
     "execution_count": 37,
     "metadata": {
      "image/png": {
       "width": 300
      }
     },
     "output_type": "execute_result"
    }
   ],
   "source": [
    "Image(filename='../images/en_parameters.png', width=300)"
   ]
  },
  {
   "cell_type": "markdown",
   "id": "2818e149",
   "metadata": {},
   "source": [
    "Vê-se que o fit_intercept foi o parâmetro significativamente mais importante. Selection tem importância tendendo a zero, como era de se esperar."
   ]
  },
  {
   "cell_type": "markdown",
   "id": "1469b3be",
   "metadata": {},
   "source": [
    "Para o trial de melhor resultado, os parâmetros eram:\n",
    "\n",
    "Trial 810 finished with value: 0.00014746162905534939 and parameters: {'alpha': 0.00006820706258709369, 'l1_ratio': 0.17332460629146462, 'fit_intercept': True, 'positive': False, 'max_iter': 33778, 'tol': 8.423671561653807e-7, 'selection': 'random', 'normalizar': 'rfe', 'rfe_features': 31}."
   ]
  },
  {
   "cell_type": "markdown",
   "id": "27dc60a9",
   "metadata": {},
   "source": [
    "O resultado é muito promissor,com primeiro algarismo na quarta casa após a vírgula sendo 1. O RMSE é muito baixo, sendo possível ótima correção dos cálculos do xtb usando-se do ElasticNet."
   ]
  },
  {
   "cell_type": "markdown",
   "id": "6d1e6af6",
   "metadata": {},
   "source": [
    "### 4. Interpretabilidade via SHAP"
   ]
  },
  {
   "cell_type": "markdown",
   "id": "df378b76",
   "metadata": {},
   "source": [
    "#### 4.1 O que é o *SHAP*"
   ]
  },
  {
   "cell_type": "markdown",
   "id": "df7b192b",
   "metadata": {},
   "source": [
    "![image](https://shap.readthedocs.io/en/latest/_images/shap_header.png)\n",
    "\n",
    "**Fonte:** [SHAP](https://shap.readthedocs.io/en/latest/)"
   ]
  },
  {
   "cell_type": "markdown",
   "id": "8e1f680b",
   "metadata": {},
   "source": [
    "O *SHAP (SHapley Additive exPlanations)* é uma abordagem baseada em teoria dos jogos para explicar a saída de qualquer modelo de aprendizado de máquina (“black-box”). \n",
    "\n",
    "O conceito central deriva dos valores de `Lloyd Shapley (Shapley values)`, originalmente desenvolvidos em jogos cooperativos, para distribuir “créditos” aos jogadores conforme suas contribuições marginais.\n",
    "\n",
    "No contexto de modelos de ML, cada “jogador” é um *feature* (variável) ou valor de feature, e o “prêmio” do jogo é o valor de predição do modelo menos um valor de referência (por exemplo, a média da predição). "
   ]
  },
  {
   "cell_type": "markdown",
   "id": "aafdd83b",
   "metadata": {},
   "source": [
    "#### 4.2 Relação com a interpretabilidade de modelos"
   ]
  },
  {
   "cell_type": "markdown",
   "id": "c997b333",
   "metadata": {},
   "source": [
    "Em muitos cenários de aprendizado de máquina, especialmente em modelos de alta complexidade (como ensembles, redes neurais…), temos alta acurácia mas baixa transparência (“caixa-preta”). SHAP ajuda a reduzir essa lacuna ao oferecer explicações compreensíveis para as previsões. Permite responder perguntas como: *Quais features mais contribuíram para esta previsão?* ou *Para um dado cliente, quais variáveis “empurraram” a predição para cima ou para baixo?*\n",
    "\n",
    "Pode também ajudar na visão global do modelo: agregando valores SHAP sobre muitas instâncias, conseguimos visualizar quais features têm geralmente mais impacto nas previsões, detectar dependências ou interações, e até investigar vieses ou decisões inesperadas.\n",
    "\n",
    "**Como funciona em termos gerais**  \n",
    "1. Para uma dada instância de entrada $x$, o modelo prediz $f(x)$.  \n",
    "2. A ideia é computar quanto cada feature contribui para essa predição, comparada à previsão média $\\mathbb{E}[f(X)]$.  \n",
    "3. Para cada feature $j$, consideram-se todas (ou muitas) as combinações possíveis de features que a precedem (coalitions). Para cada coalizão $S \\subseteq \\{1, \\dots, p\\} \\setminus \\{j\\}$, mede-se a “valoração” $v(S \\cup \\{j\\}) - v(S)$ — ou seja, a diferença de predição se incluirmos $j$ ou não. A média desta diferença (ponderada apropriadamente) dá o valor SHAP $\\phi_j$.  \n",
    "4. As contribuições $\\phi_j$ de todas as features somam-se exatamente à diferença $f(x) - \\mathbb{E}[f(X)]$. Essa é a propriedade de **eficiência**.  \n",
    "\n",
    "**Propriedades importantes que tornam SHAP útil para interpretabilidade**  \n",
    "\n",
    "- **Localidade**: SHAP explica *uma predição individual* (instância $x$), o que é muito relevante quando queremos entender “por que esse cliente foi aceito ou recusado?”.\n",
    "  \n",
    "- **Aditividade / Eficiência**: A soma das contribuições das features corresponde à diferença entre a predição e o valor médio, garantindo que nenhuma “parte” da explicação se perca.   \n",
    "  \n",
    "- **Consistência**: Em teoria, se o modelo altera-se de modo que a contribuição de um feature aumente, então seu valor SHAP não diminui — isso faz com que a explicação seja “justa” em termos de atribuição.  \n",
    "  \n",
    "- **Modelo-agnóstico (até certo ponto)**: SHAP pode ser aplicado a muitos tipos de modelos (regressão, árvores de decisão, redes neurais…) porque trata das features como “jogadores” sem depender fortemente da estrutura do modelo. "
   ]
  },
  {
   "cell_type": "markdown",
   "id": "84ce24e8",
   "metadata": {},
   "source": [
    "### 5. Usando o SHAP"
   ]
  },
  {
   "cell_type": "markdown",
   "id": "938b90db",
   "metadata": {},
   "source": [
    "#### 5.1 Módulo necessário"
   ]
  },
  {
   "cell_type": "markdown",
   "id": "1b615c70",
   "metadata": {},
   "source": [
    "Antes de tudo, certifique-se de ter instalado o módulo `shap`.\n",
    "\n",
    "---\n",
    "\n",
    "````python\n",
    "pip install shap\n",
    "````\n",
    "---"
   ]
  },
  {
   "cell_type": "code",
   "execution_count": 1,
   "id": "c2c95704",
   "metadata": {},
   "outputs": [
    {
     "name": "stderr",
     "output_type": "stream",
     "text": [
      "c:\\Users\\edelio25024\\OneDrive - ILUM ESCOLA DE CIÊNCIA\\VSCODE\\R2D2_MACHINE_LEARNING\\R2D2\\.venv\\Lib\\site-packages\\tqdm\\auto.py:21: TqdmWarning: IProgress not found. Please update jupyter and ipywidgets. See https://ipywidgets.readthedocs.io/en/stable/user_install.html\n",
      "  from .autonotebook import tqdm as notebook_tqdm\n"
     ]
    }
   ],
   "source": [
    "import shap"
   ]
  },
  {
   "cell_type": "markdown",
   "id": "36730ffe",
   "metadata": {},
   "source": [
    "#### 5.2 Avaliando o melhor modelo"
   ]
  },
  {
   "cell_type": "markdown",
   "id": "71c6daa3",
   "metadata": {},
   "source": [
    "Para analisar a interpretabilidade do modelo vencedor encontrado pelo *Optuna*, precisamos carregá-lo a partir do arquivo de estudo utilizando a função `load_study`.\n",
    "\n",
    "**Observação importante:** O *SHAP* não aceita um pipeline completo como entrada, ele requer um modelo final ou uma função de predição. Por isso, criamos um *trial* “falso” (`FixedTrial`) com os melhores hiperparâmetros para instanciar o pipeline vencedor.\n",
    "\n",
    "Além disso, o modelo não é definido apenas pelos hiperparâmetros do algoritmo (`ElasticNet`), mas também inclui todas as etapas de pré-processamento do pipeline, como `StandardScaler`, `RFE`, `PCA` ou `VarianceThreshold`. Essas transformações devem ser aplicadas corretamente antes de calcular os valores de SHAP, garantindo que a explicação reflita exatamente como o modelo processa os dados.\n"
   ]
  },
  {
   "cell_type": "code",
   "execution_count": 17,
   "id": "5b0b0dc6",
   "metadata": {},
   "outputs": [
    {
     "name": "stderr",
     "output_type": "stream",
     "text": [
      "c:\\Users\\edelio25024\\OneDrive - ILUM ESCOLA DE CIÊNCIA\\VSCODE\\R2D2_MACHINE_LEARNING\\R2D2\\.venv\\Lib\\site-packages\\sklearn\\feature_selection\\_rfe.py:300: UserWarning: Found n_features_to_select=31 > n_features=9. There will be no feature selection and all features will be kept.\n",
      "  warnings.warn(\n",
      "c:\\Users\\edelio25024\\OneDrive - ILUM ESCOLA DE CIÊNCIA\\VSCODE\\R2D2_MACHINE_LEARNING\\R2D2\\.venv\\Lib\\site-packages\\sklearn\\linear_model\\_coordinate_descent.py:695: ConvergenceWarning: Objective did not converge. You might want to increase the number of iterations, check the scale of the features or consider increasing regularisation. Duality gap: 7.291e-01, tolerance: 1.481e-01\n",
      "  model = cd_fast.enet_coordinate_descent(\n"
     ]
    },
    {
     "data": {
      "image/png": "[encoded data removed]",
      "text/plain": [
       "<Figure size 800x510 with 2 Axes>"
      ]
     },
     "metadata": {},
     "output_type": "display_data"
    }
   ],
   "source": [
    "# --- Carregar estudo Optuna ---\n",
    "NOME_DO_ESTUDO = \"elasticnet_xtb\"\n",
    "study = load_study(study_name=NOME_DO_ESTUDO, storage=f\"sqlite:///{NOME_DO_ESTUDO}.db\")\n",
    "\n",
    "# --- Recuperar melhores parâmetros ---\n",
    "melhores_params = study.best_trial.params\n",
    "fake_trial = trial.FixedTrial(melhores_params)\n",
    "\n",
    "# --- Instanciar modelo conforme melhores parâmetros ---\n",
    "melhor_modelo = inst_elasticnet(fake_trial)\n",
    "\n",
    "# --- Treinar o modelo ---\n",
    "melhor_modelo.fit(X_train, y_train)\n",
    "\n",
    "# --- Identificar quais steps o pipeline possui ---\n",
    "steps = [name for name, _ in melhor_modelo.named_steps.items()] if hasattr(melhor_modelo, \"named_steps\") else []\n",
    "\n",
    "# --- Obter representações transformadas de X_train e X_test ---\n",
    "X_train_transf, X_test_transf = X_train, X_test\n",
    "\n",
    "if \"standardscaler\" in steps:\n",
    "    scaler = melhor_modelo.named_steps[\"standardscaler\"]\n",
    "    X_train_transf = scaler.transform(X_train_transf)\n",
    "    X_test_transf = scaler.transform(X_test_transf)\n",
    "\n",
    "if \"variancethreshold\" in steps:\n",
    "    var_th = melhor_modelo.named_steps[\"variancethreshold\"]\n",
    "    X_train_transf = var_th.transform(X_train_transf)\n",
    "    X_test_transf = var_th.transform(X_test_transf)\n",
    "\n",
    "if \"pca\" in steps:\n",
    "    pca = melhor_modelo.named_steps[\"pca\"]\n",
    "    X_train_transf = pca.transform(X_train_transf)\n",
    "    X_test_transf = pca.transform(X_test_transf)\n",
    "\n",
    "if \"rfe\" in steps:\n",
    "    rfe = melhor_modelo.named_steps[\"rfe\"]\n",
    "    X_train_transf = rfe.transform(X_train_transf)\n",
    "    X_test_transf = rfe.transform(X_test_transf)\n",
    "    selected_features = X_train.columns[rfe.get_support()]\n",
    "else:\n",
    "    # Caso não tenha RFE nem PCA, usamos as colunas originais\n",
    "    selected_features = getattr(X_train, \"columns\", [f\"feat_{i}\" for i in range(X_train.shape[1])])\n",
    "\n",
    "# --- Identificar o modelo final (ElasticNet) ---\n",
    "if hasattr(melhor_modelo, \"named_steps\"):\n",
    "    modelo_final = melhor_modelo.named_steps[\"elasticnet\"]\n",
    "else:\n",
    "    modelo_final = melhor_modelo\n",
    "\n",
    "# --- Calcular explicações SHAP ---\n",
    "explainer = shap.LinearExplainer(modelo_final, X_train_transf)\n",
    "shap_values = explainer.shap_values(X_test_transf)\n",
    "\n",
    "# --- Plotar resumo SHAP ---\n",
    "shap.summary_plot(shap_values, X_test_transf, feature_names=selected_features)\n"
   ]
  },
  {
   "cell_type": "markdown",
   "id": "e1d7f417",
   "metadata": {},
   "source": [
    "#### 5.3 Interpretação do Summary Plot SHAP\n",
    "\n",
    "O gráfico acima é um **summary plot** do SHAP, mostrando a importância e direção do efeito de cada feature sobre as predições do modelo ElasticNet.\n",
    "\n",
    "`Observações principais`:\n",
    "\n",
    "1. **Features mais importantes:**  \n",
    "   As variáveis `H`, `U`, `G` e `U0` apresentam os maiores valores absolutos de SHAP, indicando que são as que mais influenciam a saída do modelo.  \n",
    "\n",
    "2. **Direção do efeito:**  \n",
    "   - Pontos à esquerda (SHAP negativo) indicam que **aumentar o valor da feature reduz a predição**.  \n",
    "   - Pontos à direita (SHAP positivo) indicam que **aumentar a feature aumenta a predição**.\n",
    "\n",
    "3. **Cor das observações:**  \n",
    "   - Tons mais **vermelhos** representam valores altos da feature.  \n",
    "   - Tons mais **azuis** representam valores baixos da feature.  \n",
    "   Assim, podemos ver como a magnitude da feature está correlacionada com a direção do efeito no modelo. Por exemplo:\n",
    "   - Para `H`, valores altos (vermelhos) tendem a empurrar a predição para valores negativos, indicando efeito contrário ao alvo.  \n",
    "   - Para `U`, valores altos também reduzem a predição, seguindo padrão similar.  \n",
    "\n",
    "4. **Features menos relevantes:**  \n",
    "   `ZPE`, `E_LUMO`, `E_HOMO`, `Dipole` e `gap_HOMO-LUMO` têm SHAP próximo de zero, mostrando que **essas variáveis têm pouca influência** sobre o modelo.  \n",
    "\n",
    "Assim, podemos conclui que modelo parece depender fortemente de um **pequeno subconjunto de variáveis** (H, U, G, U0), enquanto outras features contribuem pouco."
   ]
  },
  {
   "cell_type": "markdown",
   "id": "837bc41f",
   "metadata": {},
   "source": [
    "### 4. Referências\n",
    "DATACAMP. Tutorial: Regressão Lasso e Ridge no Python. 2025. Disponível em: https://www.datacamp.com/pt/tutorial/tutorial-lasso-ridge-regression. Acesso em: 27 set. 2025.\n",
    "\n",
    "PEDREGOSA, F. et al. sklearn.linear_model.ElasticNet. Scikit-learn, 2025. Disponível em: https://scikit-learn.org/stable/modules/generated/sklearn.linear_model.ElasticNet.html. Acesso em: 27 set. 2025.\n",
    "\n",
    "THE PANDAS DEVELOPMENT TEAM. pandas.DataFrame.drop. Pandas, 2025. Disponível em: https://pandas.pydata-org.translate.goog/docs/reference/api/pandas.DataFrame.drop.html?_x_tr_sl=en&_x_tr_tl=pt&_x_tr_hl=pt&_x_tr_pto=tc. Acesso em: 27 set. 2025.\n",
    "\n",
    "ZINI, Fernando. Regressão Linear: Teoria e Prática. YouTube, 10 set. 2023. Disponível em: https://www.youtube.com/watch?v=VqKq78PVO9g. Acesso em: 27 set. 2025.\n",
    "\n",
    "PEDREGOSA, F. et al. 1.1. Linear Models. Scikit-learn, 2025. Disponível em: https://scikit-learn.org/stable/modules/linear_model.html. Acesso em: 27 set. 2025.\n",
    "\n",
    "DeepSeek. Disponível em: https://chat.deepseek.com/share/j7z37nakhld1e4jftp. Acesso em: 27 set. 2025.\n",
    "\n",
    "KAGGLE. Student Academic Performance Trends Dataset. 2024. Disponível em: https://www.kaggle.com/datasets/emanfatima2025/student-academic-performance-trends Acesso em: 27 set. 2025.\n",
    "\n",
    "Modelos 3, 2025. Silveira Matheus. Acesso em: 25 out. 2025.\n",
    "\n",
    "Modelos 7, 2025. Neto Aniel et al. Acesso em: 25 set. 2025.\n",
    "\n",
    "Modelos 6, 2025. Mendes Mateus et al. Acesso em: 25 out. 2025."
   ]
  }
 ],
 "metadata": {
  "kernelspec": {
   "display_name": ".venv",
   "language": "python",
   "name": "python3"
  },
  "language_info": {
   "codemirror_mode": {
    "name": "ipython",
    "version": 3
   },
   "file_extension": ".py",
   "mimetype": "text/x-python",
   "name": "python",
   "nbconvert_exporter": "python",
   "pygments_lexer": "ipython3",
   "version": "3.12.7"
  }
 },
 "nbformat": 4,
 "nbformat_minor": 5
}
